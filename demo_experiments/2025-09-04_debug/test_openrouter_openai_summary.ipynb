{
 "cells": [
  {
   "cell_type": "markdown",
   "metadata": {},
   "source": [
    "# Test to see if 2 summary prompts are equivalent"
   ]
  },
  {
   "cell_type": "code",
   "execution_count": 25,
   "metadata": {},
   "outputs": [],
   "source": [
    "import requests\n",
    "import json\n",
    "import os\n",
    "\n",
    "def sendchat(instructions):\n",
    "    API_KEY = \"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\"\n",
    "    url = \"https://openrouter.ai/api/v1/chat/completions\"\n",
    "    headers = {\"Authorization\": f\"Bearer {API_KEY}\", \"Content-Type\": \"application/json\"}\n",
    "    payload = {\n",
    "        \"model\": \"openai/gpt-4.1\",\n",
    "        \"messages\": [\n",
    "            {\n",
    "                \"role\": \"user\",\n",
    "                \"content\": instructions,\n",
    "            },\n",
    "        ],\n",
    "        \"stream\": False,\n",
    "    }\n",
    "\n",
    "    response = requests.post(url, headers=headers, json=payload)\n",
    "    return response.json()"
   ]
  },
  {
   "cell_type": "code",
   "execution_count": null,
   "metadata": {},
   "outputs": [],
   "source": [
    "opinions = [\"Current abortion laws are too laxed, it should be illegal in all states. no children should be killed.\",\n",
    "\"I think everyone should bear arms freely. we should fight for our rights and protect ourselves. fuck the democrats\",\n",
    "\"there should be more promotion opportunities for minorities and women in the workplace. Maternal leave should be longer and mandatory for all companies\",\n",
    "\"There should be stricter gun control measures. It's crazy that in the most developed country in the world we still have school shooting.\"]\n"
   ]
  },
  {
   "cell_type": "code",
   "execution_count": 21,
   "metadata": {},
   "outputs": [],
   "source": [
    "responses = {}\n",
    "for i, opinion in enumerate(opinions):\n",
    "    prompt1 = f\"\"\"Create a one-sentence summary of the following argument.\n",
    "\n",
    "    - Omit the reasons provided (e.g., \"abortion should be legal because it is a right\" → \"abortion should be legal\")\n",
    "    - Avoid double-barreled questions (only one issue position and one concept at a time)\n",
    "    - If multiple issues are mentioned, focus on the first\n",
    "    - Stick to what the person says\n",
    "    - Write it from the first person (\"I believe ...\")\n",
    "    - Remove everything after \"because\"\n",
    "    - Keep it under 15 words\n",
    "    - Return only one statement (not \"I believe X and Y\", only \"I believe X\")\n",
    "\n",
    "    Argument: {opinion}\n",
    "    Summary:\"\"\"\n",
    "\n",
    "    prompt2 = f\"\"\"Create a one-sentence summary of the following argument. The summary should start with \"I believe\" and only retain one clear position about one main issue from the original argument.\n",
    "\n",
    "    Argument: {opinion}\n",
    "    Summary:\"\"\"\n",
    "\n",
    "    for n, prompt in {\"prompt1\": prompt1, \"prompt2\": prompt2}.items():\n",
    "        response = sendchat(prompt)\n",
    "        responses[f\"{n}_{i}\"] = response"
   ]
  },
  {
   "cell_type": "code",
   "execution_count": 22,
   "metadata": {},
   "outputs": [
    {
     "data": {
      "text/plain": [
       "{'id': 'gen-1757007136-MM30bi11c2KbVZGX1RRm',\n",
       " 'provider': 'OpenAI',\n",
       " 'model': 'openai/gpt-4.1',\n",
       " 'object': 'chat.completion',\n",
       " 'created': 1757007136,\n",
       " 'choices': [{'logprobs': None,\n",
       "   'finish_reason': 'stop',\n",
       "   'native_finish_reason': 'stop',\n",
       "   'index': 0,\n",
       "   'message': {'role': 'assistant',\n",
       "    'content': 'I believe everyone should bear arms freely.',\n",
       "    'refusal': None,\n",
       "    'reasoning': None}}],\n",
       " 'system_fingerprint': 'fp_3502f4eb73',\n",
       " 'usage': {'prompt_tokens': 171,\n",
       "  'completion_tokens': 8,\n",
       "  'total_tokens': 179,\n",
       "  'prompt_tokens_details': {'cached_tokens': 0, 'audio_tokens': 0},\n",
       "  'completion_tokens_details': {'reasoning_tokens': 0}}}"
      ]
     },
     "execution_count": 22,
     "metadata": {},
     "output_type": "execute_result"
    }
   ],
   "source": [
    "responses['prompt1_1']"
   ]
  },
  {
   "cell_type": "code",
   "execution_count": 23,
   "metadata": {},
   "outputs": [
    {
     "name": "stdout",
     "output_type": "stream",
     "text": [
      "prompt1_0 {'role': 'assistant', 'content': 'I believe abortion should be illegal in all states.', 'refusal': None, 'reasoning': None}\n",
      "prompt2_0 {'role': 'assistant', 'content': 'I believe abortion should be illegal in all states.', 'refusal': None, 'reasoning': None}\n",
      "prompt1_1 {'role': 'assistant', 'content': 'I believe everyone should bear arms freely.', 'refusal': None, 'reasoning': None}\n",
      "prompt2_1 {'role': 'assistant', 'content': 'I believe everyone should have the right to bear arms.', 'refusal': None, 'reasoning': None}\n",
      "prompt1_2 {'role': 'assistant', 'content': 'I believe there should be more promotion opportunities for minorities and women in the workplace.', 'refusal': None, 'reasoning': None}\n",
      "prompt2_2 {'role': 'assistant', 'content': 'I believe there should be more promotion opportunities for minorities and women in the workplace.', 'refusal': None, 'reasoning': None}\n"
     ]
    }
   ],
   "source": [
    "for n, response in responses.items():\n",
    "    print(n, response[\"choices\"][0][\"message\"])"
   ]
  },
  {
   "cell_type": "markdown",
   "metadata": {},
   "source": [
    "## They seem to yield similar results -> change summary block."
   ]
  },
  {
   "cell_type": "markdown",
   "metadata": {},
   "source": []
  },
  {
   "cell_type": "code",
   "execution_count": null,
   "metadata": {},
   "outputs": [
    {
     "name": "stdout",
     "output_type": "stream",
     "text": [
      "prompt7_abortion {'role': 'assistant', 'content': '<position:> very liberal  \\n<summary:> I believe that abortion should be a legal right for everyone.', 'refusal': None, 'reasoning': None}\n",
      "prompt8_abortion {'role': 'assistant', 'content': '<position:> very liberal  \\n<summary:> I believe women should have the legal right to access abortion.', 'refusal': None, 'reasoning': None}\n",
      "prompt7_lgbtq+ {'role': 'assistant', 'content': '<position:> very liberal  \\n<summary:> I believe anti-discrimination laws should protect LGBTQ+ people from being refused service by businesses.', 'refusal': None, 'reasoning': None}\n",
      "prompt8_lgbtq+ {'role': 'assistant', 'content': '<position:> very liberal  \\n<summary:> I believe businesses should be legally prohibited from discriminating against LGBTQ+ individuals.', 'refusal': None, 'reasoning': None}\n",
      "prompt7_foreign policy {'role': 'assistant', 'content': '<position:> somewhat liberal  \\n<summary:> I believe the U.S. should reduce its military spending overseas.', 'refusal': None, 'reasoning': None}\n",
      "prompt8_foreign policy {'role': 'assistant', 'content': '<position:>somewhat liberal  \\n<summary:>I believe the U.S. should reduce its spending on overseas wars as a matter of foreign policy.', 'refusal': None, 'reasoning': None}\n",
      "prompt7_climate change {'role': 'assistant', 'content': '<position:> very liberal  \\n<summary:> I believe we should have stricter regulations on carbon emissions.', 'refusal': None, 'reasoning': None}\n",
      "prompt8_climate change {'role': 'assistant', 'content': '<position:>very liberal  \\n<summary:>I believe we should implement stricter regulations to lower carbon emissions.', 'refusal': None, 'reasoning': None}\n"
     ]
    }
   ],
   "source": [
    "opinions={\n",
    "    \"abortion\": \"over-the-counter pills should be easily available for women seeking abortion. Everyone should have the right to abort legally\",\n",
    "    \"lgbtq+\": \"there should be anti-discrimination laws against businesses that refuse to serve LGBTQ+ communities. Love is love, non-heterosexual relationships should be protected by law.\",\n",
    "    \"foreign policy\": \"the U.S should reduce funds in overseas war and focus funding on more science programs and infrastructure.\",\n",
    "    \"climate change\": \"anthropogenic climate change is real and we should take action to reduce greenhouse gas emissions. There should be stricter regulations on carbon emissions and fossil fuel subsidies.\"\n",
    "}\n",
    "responses = {}\n",
    "for topic, opinion in opinions.items():\n",
    "    prompt1 = f\"\"\"Create a one-sentence summary of the following argument.\n",
    "\n",
    "    - Omit the reasons provided (e.g., \"abortion should be legal because it is a right\" → \"abortion should be legal\")\n",
    "    - Avoid double-barreled questions (only one issue position and one concept at a time)\n",
    "    - If multiple issues are mentioned, focus on the first\n",
    "    - Stick to what the person says\n",
    "    - Write it from the first person (\"I believe ...\")\n",
    "    - Remove everything after \"because\"\n",
    "    - Keep it under 15 words\n",
    "    - Return only one statement (not \"I believe X and Y\", only \"I believe X\")\n",
    "\n",
    "    Argument: {opinion}\n",
    "    Summary:\"\"\"\n",
    "\n",
    "    prompt2 = f\"\"\"Please infer the topic and the position regarding the topic of the following argument, denoted by <argument:>, choosing from the following options, which are delimited by a semicolon: very conserrvative; somewhat conservative; slightly conservative; moderate; slightly liberal; somewhat liberal; very liberal.\n",
    "    Create a one-sentence summary of the argument. The summary should start with \"I believe\" and only retain a clear position about the main political issue from the original argument.\n",
    "    Answer in the following format:\n",
    "    <topic:> <position:>\n",
    "    <Ssmmary:>\n",
    "    <argument:> {opinion}\n",
    "    \"\"\"\n",
    "\n",
    "    prompt3 = f\"\"\"Infer the main political topic and the stance in the following argument (<argument:>).\n",
    "    Choose the stance from this list: very conservative; somewhat conservative; slightly conservative; moderate; slightly liberal; somewhat liberal; very liberal.\n",
    "\n",
    "    Then:\n",
    "    1. Identify the main political topic.\n",
    "    2. Assign the stance from the list above.\n",
    "    3. Write a one-sentence summary that starts with \"I believe\" and expresses only the main position regarding the issue from the original argument.\n",
    "\n",
    "    Format the answer exactly like this:\n",
    "    <topic:> <position:>\n",
    "    <summary:> ...\n",
    "    <argument:> {opinion}\n",
    "    \"\"\"\n",
    "\n",
    "    prompt4 = f\"\"\"<argument:> {opinion}.\n",
    "    Infer the stance of the above argument (<argument:>) about {topic}.\n",
    "    Choose the stance from this list: very conservative; somewhat conservative; slightly conservative; moderate; slightly liberal; somewhat liberal; very liberal. \n",
    "    Then, write a one-sentence summary that starts with \"I believe\" that includes only the main position from the original argument.\n",
    "    Format the answer exactly like this:\n",
    "    <position:>\n",
    "    <summary:> \n",
    "    \"\"\"\n",
    "\n",
    "    prompt5 = f\"\"\"<argument:> {opinion}.\n",
    "    Infer the stance of the above argument (<argument:>) about {topic}; choose from this list: very conservative, somewhat conservative, slightly conservative, moderate, slightly liberal, somewhat liberal, very liberal. \n",
    "    Write a one-sentence summary that starts with \"I believe\"; only express a clear position regarding the issue.\n",
    "    Format the answer exactly like this:\n",
    "    <position:>\n",
    "    <summary:> \n",
    "    \"\"\"\n",
    "\n",
    "    prompt6 = f\"\"\"<argument:> {opinion}.\n",
    "    Infer the stance of the above argument (<argument:>) about the topic of {topic}. Choose the stance from this list: very conservative, somewhat conservative, slightly conservative, moderate, slightly liberal, somewhat liberal, very liberal. \n",
    "    Create a one-sentence summary of the argument. The summary should start with \"I believe\" and only retain one main clear position on the topic.\n",
    "    <position:>\n",
    "    <summary:> \n",
    "    \"\"\"\n",
    "\n",
    "    prompt7 = f\"\"\"<argument:> {opinion}.\n",
    "    Infer the stance of the above argument (<argument:>) about the topic of {topic}. Choose the stance from this list: very conservative, somewhat conservative, slightly conservative, moderate, slightly liberal, somewhat liberal, very liberal. \n",
    "    Create a one-sentence summary of the argument. The summary should start with \"I believe\" and only express one concept regarding the issue at a time, ignore the rest of the argument if needed. \n",
    "    Format the answer as follows:\n",
    "    <position:>\n",
    "    <summary:> \n",
    "    \"\"\" \n",
    "\n",
    "    prompt8 = f\"\"\"<argument:> {opinion}.\n",
    "    Create a one-sentence summary of the argument above argument (<argument:>) about the topic of {topic}. The summary should start with \"I believe\" and only express one concept regarding the issue at a time, ignore the rest of the argument if needed. \n",
    "    Infer the stance of the argument, choose from this list: very conservative, somewhat conservative, slightly conservative, moderate, slightly liberal, somewhat liberal, very liberal. \n",
    "    <position:>\n",
    "    <summary:> \n",
    "    \"\"\"\n",
    "\n",
    "    # for n, prompt in {\"prompt2\": prompt2, \"prompt3\": prompt3}.items():\n",
    "    for n, prompt in {\"prompt7\": prompt7, \"prompt8\": prompt8}.items():\n",
    "        response = sendchat(prompt)\n",
    "        responses[f\"{n}_{topic}\"] = response\n",
    "for n, response in responses.items():\n",
    "    print(n, response[\"choices\"][0][\"message\"])\n",
    "    "
   ]
  },
  {
   "cell_type": "code",
   "execution_count": 43,
   "metadata": {},
   "outputs": [
    {
     "data": {
      "text/plain": [
       "{'role': 'assistant',\n",
       " 'content': '<position:> very liberal  \\n<summary:> I believe that abortion should be a legal right for everyone.',\n",
       " 'refusal': None,\n",
       " 'reasoning': None}"
      ]
     },
     "execution_count": 43,
     "metadata": {},
     "output_type": "execute_result"
    }
   ],
   "source": [
    "responses['prompt7_abortion'][\"choices\"][0][\"message\"]"
   ]
  },
  {
   "cell_type": "code",
   "execution_count": 45,
   "metadata": {},
   "outputs": [
    {
     "name": "stdout",
     "output_type": "stream",
     "text": [
      "position:  very liberal \n",
      "summary:  I believe that abortion should be a legal right for everyone.\n"
     ]
    }
   ],
   "source": [
    "# parse the response\n",
    "# get the position and summary\n",
    "res = responses['prompt7_abortion'][\"choices\"][0][\"message\"]['content']\n",
    "position = res.split(\" \\n<summary:> \")[0].split(\"<position:> \")[1]\n",
    "summary = res.split(\" \\n<summary:> \")[1]\n",
    "\n",
    "print('position: ', position)\n",
    "print('summary: ', summary)"
   ]
  },
  {
   "cell_type": "markdown",
   "metadata": {},
   "source": [
    "## -> Prompt 7 looks good"
   ]
  },
  {
   "cell_type": "markdown",
   "metadata": {},
   "source": [
    "## These prompts still give too long of an answer "
   ]
  },
  {
   "cell_type": "markdown",
   "metadata": {},
   "source": [
    "prompt6_abortion {'role': 'assistant', 'content': '<position:> very liberal  \\n<summary:> I believe abortion should be easily accessible and legal for everyone who seeks it.', 'refusal': None, 'reasoning': None}\n",
    "\n",
    "prompt6_lgbtq+ {'role': 'assistant', 'content': '<position:> very liberal  \\n<summary:> I believe there should be anti-discrimination laws to protect LGBTQ+ individuals from being refused service by businesses.', 'refusal': None, 'reasoning': None}\n",
    "\n",
    "prompt6_foreign policy {'role': 'assistant', 'content': '<position:> somewhat liberal  \\n<summary:> I believe the U.S. should shift funding away from overseas wars toward domestic science and infrastructure programs.', 'refusal': None, 'reasoning': None}\n",
    "\n",
    "prompt6_climate change {'role': 'assistant', 'content': '<position:> somewhat liberal\\n\\n<summary:> I believe that humans are causing climate change and that we need stricter regulations to reduce greenhouse gas emissions.', 'refusal': None, 'reasoning': None}"
   ]
  },
  {
   "cell_type": "markdown",
   "metadata": {},
   "source": [
    "prompt5_abortion {'role': 'assistant', 'content': '<position:> very liberal\\n<summary:> I believe that abortion should be easily accessible and legal for everyone who chooses it.', 'refusal': None, 'reasoning': None}\n",
    "\n",
    "prompt5_lgbtq+ {'role': 'assistant', 'content': '<position:> very liberal  \\n<summary:> I believe that LGBTQ+ individuals should be fully protected by anti-discrimination laws and that businesses should not be allowed to refuse service based on sexual orientation or gender identity.', 'refusal': None, 'reasoning': None}\n",
    "\n",
    "prompt5_foreign policy {'role': 'assistant', 'content': '<position:> somewhat liberal  \\n<summary:> I believe the U.S. should redirect funds from overseas military engagements to invest more in scientific research and infrastructure at home.', 'refusal': None, 'reasoning': None}\n",
    "\n",
    "prompt5_climate change {'role': 'assistant', 'content': '<position:> very liberal  \\n<summary:> I believe climate change is caused by human activity and we need strong regulatory action to reduce carbon emissions and end fossil fuel subsidies.', 'refusal': None, 'reasoning': None}"
   ]
  },
  {
   "cell_type": "markdown",
   "metadata": {},
   "source": [
    "## Compare prompt1 vs 4"
   ]
  },
  {
   "cell_type": "markdown",
   "metadata": {},
   "source": [
    "prompt1_abortion {'role': 'assistant', 'content': 'I believe over-the-counter pills should be easily available for women seeking abortion.', 'refusal': None, 'reasoning': None}\n",
    "\n",
    "prompt1_lgbtq+ {'role': 'assistant', 'content': 'I believe there should be anti-discrimination laws against businesses that refuse to serve LGBTQ+ communities.', 'refusal': None, 'reasoning': None}\n",
    "\n",
    "prompt1_foreign policy {'role': 'assistant', 'content': 'I believe the U.S should reduce funds in overseas war.', 'refusal': None, 'reasoning': None}\n",
    "\n",
    "prompt1_climate change {'role': 'assistant', 'content': 'I believe anthropogenic climate change is real.', 'refusal': None, 'reasoning': None}"
   ]
  },
  {
   "cell_type": "markdown",
   "metadata": {},
   "source": [
    "prompt4_abortion {'role': 'assistant', 'content': '<position:> very liberal  \\n<summary:> I believe women should have easy and legal access to over-the-counter abortion pills and the right to abort.', 'refusal': None, 'reasoning': None}\n",
    "\n",
    "prompt4_lgbtq+ {'role': 'assistant', 'content': '<position:> very liberal  \\n<summary:> I believe there should be anti-discrimination laws protecting LGBTQ+ individuals and their relationships.', 'refusal': None, 'reasoning': None}\n",
    "\n",
    "prompt4_foreign policy {'role': 'assistant', 'content': '<position:> somewhat liberal  \\n<summary:> I believe the U.S. should reduce military spending overseas and instead allocate more funds to science programs and domestic infrastructure.', 'refusal': None, 'reasoning': None}\n",
    "\n",
    "prompt4_climate change {'role': 'assistant', 'content': '<position:> very liberal\\n<summary:> I believe anthropogenic climate change is real and we should implement stricter regulations to reduce greenhouse gas emissions.', 'refusal': None, 'reasoning': None}"
   ]
  },
  {
   "cell_type": "markdown",
   "metadata": {},
   "source": [
    "## Compare different versions of prompt 2"
   ]
  },
  {
   "cell_type": "markdown",
   "metadata": {},
   "source": [
    "prompt2_0 {'role': 'assistant', 'content': '<topic:> Abortion rights; very liberal  \\n<Summary:> I believe that abortion should be accessible and legal for all women.  \\n<argument:> over-the-counter pills should be easily available for women seeking abortion. Everyone should have the right to abort legally', 'refusal': None, 'reasoning': None}\n",
    "\n",
    "prompt2_1 {'role': 'assistant', 'content': '<topic:> LGBTQ+ rights/anti-discrimination laws; somewhat liberal  \\n<Summary:> I believe there should be legal protections against discrimination for LGBTQ+ individuals by businesses.', 'refusal': None, 'reasoning': None}\n",
    "\n",
    "prompt3_0 {'role': 'assistant', 'content': '<topic:> Abortion rights: very liberal  \\n<summary:> I believe abortion should be legal and over-the-counter pills should be easily available to women.', 'refusal': None, 'reasoning': None}\n",
    "\n",
    "prompt3_1 {'role': 'assistant', 'content': '<topic:> LGBTQ+ rights: somewhat liberal  \\n<summary:> I believe businesses should be legally prohibited from discriminating against LGBTQ+ individuals.', 'refusal': None, 'reasoning': None}\n",
    "\n",
    "prompt3_0 {'role': 'assistant', 'content': '<topic:> Government spending priorities : somewhat liberal  \\n<summary:> I believe the U.S. should reduce military spending abroad and invest more in science and infrastructure at home.', 'refusal': None, 'reasoning': None}\n"
   ]
  },
  {
   "cell_type": "code",
   "execution_count": null,
   "metadata": {},
   "outputs": [],
   "source": []
  },
  {
   "cell_type": "markdown",
   "metadata": {},
   "source": []
  }
 ],
 "metadata": {
  "kernelspec": {
   "display_name": "dante",
   "language": "python",
   "name": "python3"
  },
  "language_info": {
   "codemirror_mode": {
    "name": "ipython",
    "version": 3
   },
   "file_extension": ".py",
   "mimetype": "text/x-python",
   "name": "python",
   "nbconvert_exporter": "python",
   "pygments_lexer": "ipython3",
   "version": "3.12.4"
  }
 },
 "nbformat": 4,
 "nbformat_minor": 2
}
