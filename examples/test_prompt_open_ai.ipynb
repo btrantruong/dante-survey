{
 "cells": [
  {
   "cell_type": "code",
   "execution_count": null,
   "metadata": {},
   "outputs": [],
   "source": [
    "import openai\n",
    "\n",
    "# Set your OpenAI API key\n",
    "openai.api_key = \"your-api-key-here\"\n",
    "\n",
    "\n",
    "def chat_with_gpt():\n",
    "    # Define the system prompt\n",
    "    system_prompt = \"You are an AI designed to simulate a politically engaged American with a {partisan_identity} perspective.\"\n",
    "\n",
    "    # Define the user input\n",
    "    user_input = (\n",
    "        \"You are participating in a political discussion under the {Ingroup Disagreement} condition. \"\n",
    "        \"The topic of discussion is {immigration policy}. \"\n",
    "        \"As a politically engaged {Democrat}, first, state your own opinion on {immigration policy} in two sentences.\"\n",
    "    )\n",
    "\n",
    "    # Make the API call\n",
    "    response = openai.ChatCompletion.create(\n",
    "        model=\"gpt-4\",\n",
    "        messages=[\n",
    "            {\"role\": \"system\", \"content\": system_prompt},\n",
    "            {\"role\": \"user\", \"content\": user_input},\n",
    "        ],\n",
    "    )\n",
    "\n",
    "    # Extract and print the chatbot's response\n",
    "    chatbot_response = response[\"choices\"][0][\"message\"][\"content\"]\n",
    "    print(\"Chatbot Response:\")\n",
    "    print(chatbot_response)\n",
    "\n",
    "\n",
    "if __name__ == \"__main__\":\n",
    "    chat_with_gpt()"
   ]
  }
 ],
 "metadata": {
  "language_info": {
   "name": "python"
  }
 },
 "nbformat": 4,
 "nbformat_minor": 2
}
