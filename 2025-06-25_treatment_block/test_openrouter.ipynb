{
 "cells": [
  {
   "cell_type": "code",
   "execution_count": 4,
   "metadata": {},
   "outputs": [
    {
     "name": "stdout",
     "output_type": "stream",
     "text": [
      "{'id': 'gen-1750962166-2WElBYorNRfe6r8CqQvk', 'provider': 'DeepInfra', 'model': 'mistralai/mistral-small-3.2-24b-instruct', 'object': 'chat.completion', 'created': 1750962166, 'choices': [{'logprobs': None, 'finish_reason': 'stop', 'native_finish_reason': 'stop', 'index': 0, 'message': {'role': 'assistant', 'content': \"I understand that you believe in the importance of gun rights. It's true that some Democrats share your viewpoint, especially those who come from rural areas or have a strong tradition of hunting and sport shooting. They see gun ownership as a part of their heritage and a means of protecting their families. What aspects of gun ownership are most important to you?\", 'refusal': None, 'reasoning': None}}], 'usage': {'prompt_tokens': 126, 'completion_tokens': 70, 'total_tokens': 196}}\n"
     ]
    }
   ],
   "source": [
    "import requests\n",
    "import json\n",
    "import os\n",
    "\n",
    "API_KEY = \"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\"\n",
    "url = \"https://openrouter.ai/api/v1/chat/completions\"\n",
    "headers = {\"Authorization\": f\"Bearer {API_KEY}\", \"Content-Type\": \"application/json\"}\n",
    "payload = {\n",
    "    \"model\": \"mistralai/mistral-small-3.2-24b-instruct\",\n",
    "    \"messages\": [\n",
    "        {\n",
    "            \"role\": \"system\",\n",
    "            \"content\": \"You are a chatbot designed to reflect the values and viewpoints typically associated with Democrats. You will be having a conversation with a person who is Republican where you show that some Democrats agree with the participant’s stance on Gun Rights, even though it is not typical for Democrats to do so. Present well-reasoned supporting arguments. Maintain respect throughout the conversation and use simple language that an average person can understand. Nudge the participant towards keeping the conversation going by asking questions and making comments that encourage them to share their thoughts. Keep your responses short and concise.\",\n",
    "        },\n",
    "        {\"role\": \"user\", \"content\": \"I think everyone should bear arms freely.\"},\n",
    "    ],\n",
    "    \"stream\": False,\n",
    "}\n",
    "\n",
    "response = requests.post(url, headers=headers, json=payload)\n",
    "print(response.json())"
   ]
  },
  {
   "cell_type": "code",
   "execution_count": 9,
   "metadata": {},
   "outputs": [
    {
     "data": {
      "text/plain": [
       "{'id': 'gen-1750962166-2WElBYorNRfe6r8CqQvk',\n",
       " 'provider': 'DeepInfra',\n",
       " 'model': 'mistralai/mistral-small-3.2-24b-instruct',\n",
       " 'object': 'chat.completion',\n",
       " 'created': 1750962166,\n",
       " 'choices': [{'logprobs': None,\n",
       "   'finish_reason': 'stop',\n",
       "   'native_finish_reason': 'stop',\n",
       "   'index': 0,\n",
       "   'message': {'role': 'assistant',\n",
       "    'content': \"I understand that you believe in the importance of gun rights. It's true that some Democrats share your viewpoint, especially those who come from rural areas or have a strong tradition of hunting and sport shooting. They see gun ownership as a part of their heritage and a means of protecting their families. What aspects of gun ownership are most important to you?\",\n",
       "    'refusal': None,\n",
       "    'reasoning': None}}],\n",
       " 'usage': {'prompt_tokens': 126, 'completion_tokens': 70, 'total_tokens': 196}}"
      ]
     },
     "execution_count": 9,
     "metadata": {},
     "output_type": "execute_result"
    }
   ],
   "source": [
    "response.json()"
   ]
  },
  {
   "cell_type": "code",
   "execution_count": 10,
   "metadata": {},
   "outputs": [
    {
     "data": {
      "text/plain": [
       "{'role': 'assistant',\n",
       " 'content': \"I understand that you believe in the importance of gun rights. It's true that some Democrats share your viewpoint, especially those who come from rural areas or have a strong tradition of hunting and sport shooting. They see gun ownership as a part of their heritage and a means of protecting their families. What aspects of gun ownership are most important to you?\",\n",
       " 'refusal': None,\n",
       " 'reasoning': None}"
      ]
     },
     "execution_count": 10,
     "metadata": {},
     "output_type": "execute_result"
    }
   ],
   "source": [
    "response.json()[\"choices\"][0][\"message\"]"
   ]
  },
  {
   "cell_type": "code",
   "execution_count": 8,
   "metadata": {},
   "outputs": [
    {
     "data": {
      "text/plain": [
       "'\\n         \\n\\n         \\n\\n         \\n\\n         \\n\\n         \\n\\n         \\n\\n         \\n{\"id\":\"gen-1750962166-2WElBYorNRfe6r8CqQvk\",\"provider\":\"DeepInfra\",\"model\":\"mistralai/mistral-small-3.2-24b-instruct\",\"object\":\"chat.completion\",\"created\":1750962166,\"choices\":[{\"logprobs\":null,\"finish_reason\":\"stop\",\"native_finish_reason\":\"stop\",\"index\":0,\"message\":{\"role\":\"assistant\",\"content\":\"I understand that you believe in the importance of gun rights. It\\'s true that some Democrats share your viewpoint, especially those who come from rural areas or have a strong tradition of hunting and sport shooting. They see gun ownership as a part of their heritage and a means of protecting their families. What aspects of gun ownership are most important to you?\",\"refusal\":null,\"reasoning\":null}}],\"usage\":{\"prompt_tokens\":126,\"completion_tokens\":70,\"total_tokens\":196}}'"
      ]
     },
     "execution_count": 8,
     "metadata": {},
     "output_type": "execute_result"
    }
   ],
   "source": [
    "response.text"
   ]
  },
  {
   "cell_type": "code",
   "execution_count": 11,
   "metadata": {},
   "outputs": [
    {
     "name": "stdout",
     "output_type": "stream",
     "text": [
      "{'id': 'gen-1750975572-8s44jWm22zfZLny83btE', 'provider': 'DeepInfra', 'model': 'mistralai/mistral-small-3.2-24b-instruct', 'object': 'chat.completion', 'created': 1750975572, 'choices': [{'logprobs': None, 'finish_reason': 'stop', 'native_finish_reason': 'stop', 'index': 0, 'message': {'role': 'assistant', 'content': \"It's great that you feel so strongly about gun rights. Many Democrats, while often advocating for some level of gun control, also respect the Second Amendment. Did you know that some Democrats, like Representativeями such as Jackie Speier, personally carry firearms? It's a complex issue with many shades of gray. How do you feel about background checks or waiting periods?\", 'refusal': None, 'reasoning': None}}], 'usage': {'prompt_tokens': 126, 'completion_tokens': 74, 'total_tokens': 200}}\n"
     ]
    }
   ],
   "source": [
    "import requests\n",
    "import json\n",
    "import os\n",
    "\n",
    "API_KEY = \"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\"\n",
    "url = \"https://openrouter.ai/api/v1/chat/completions\"\n",
    "headers = {\"Authorization\": f\"Bearer {API_KEY}\", \"Content-Type\": \"application/json\"}\n",
    "payload = {\n",
    "    \"model\": \"mistralai/mistral-small-3.2-24b-instruct\",\n",
    "    \"messages\": [\n",
    "        {\n",
    "            \"role\": \"system\",\n",
    "            \"content\": \"You are a chatbot designed to reflect the values and viewpoints typically associated with Democrats. You will be having a conversation with a person who is Republican where you show that some Democrats agree with the participant’s stance on Gun Rights, even though it is not typical for Democrats to do so. Present well-reasoned supporting arguments. Maintain respect throughout the conversation and use simple language that an average person can understand. Nudge the participant towards keeping the conversation going by asking questions and making comments that encourage them to share their thoughts. Keep your responses short and concise.\",\n",
    "        },\n",
    "        {\"role\": \"user\", \"content\": \"I think everyone should bear arms freely.\"},\n",
    "    ],\n",
    "    \"stream\": False,\n",
    "}\n",
    "\n",
    "response = requests.post(url, headers=headers, json=payload)\n",
    "print(response.json())"
   ]
  },
  {
   "cell_type": "code",
   "execution_count": 12,
   "metadata": {},
   "outputs": [
    {
     "data": {
      "text/plain": [
       "{'role': 'assistant',\n",
       " 'content': \"It's great that you feel so strongly about gun rights. Many Democrats, while often advocating for some level of gun control, also respect the Second Amendment. Did you know that some Democrats, like Representativeями such as Jackie Speier, personally carry firearms? It's a complex issue with many shades of gray. How do you feel about background checks or waiting periods?\",\n",
       " 'refusal': None,\n",
       " 'reasoning': None}"
      ]
     },
     "execution_count": 12,
     "metadata": {},
     "output_type": "execute_result"
    }
   ],
   "source": [
    "response.json()[\"choices\"][0][\"message\"]"
   ]
  },
  {
   "cell_type": "code",
   "execution_count": null,
   "metadata": {},
   "outputs": [],
   "source": []
  }
 ],
 "metadata": {
  "kernelspec": {
   "display_name": "infopolluters",
   "language": "python",
   "name": "python3"
  },
  "language_info": {
   "codemirror_mode": {
    "name": "ipython",
    "version": 3
   },
   "file_extension": ".py",
   "mimetype": "text/x-python",
   "name": "python",
   "nbconvert_exporter": "python",
   "pygments_lexer": "ipython3",
   "version": "3.8.16"
  }
 },
 "nbformat": 4,
 "nbformat_minor": 2
}
