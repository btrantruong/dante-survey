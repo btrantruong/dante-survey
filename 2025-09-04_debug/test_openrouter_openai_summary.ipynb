{
 "cells": [
  {
   "cell_type": "markdown",
   "metadata": {},
   "source": [
    "# Test to see if 2 summary prompts are equivalent"
   ]
  },
  {
   "cell_type": "code",
   "execution_count": 9,
   "metadata": {},
   "outputs": [],
   "source": [
    "import requests\n",
    "import json\n",
    "import os\n",
    "\n",
    "def sendchat(instructions):\n",
    "    API_KEY = \"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\"\n",
    "    url = \"https://openrouter.ai/api/v1/chat/completions\"\n",
    "    headers = {\"Authorization\": f\"Bearer {API_KEY}\", \"Content-Type\": \"application/json\"}\n",
    "    payload = {\n",
    "        \"model\": \"openai/gpt-4.1\",\n",
    "        \"messages\": [\n",
    "            {\n",
    "                \"role\": \"user\",\n",
    "                \"content\": instructions,\n",
    "            },\n",
    "        ],\n",
    "        \"stream\": False,\n",
    "    }\n",
    "\n",
    "    response = requests.post(url, headers=headers, json=payload)\n",
    "    return response.json()"
   ]
  },
  {
   "cell_type": "code",
   "execution_count": 18,
   "metadata": {},
   "outputs": [],
   "source": [
    "opinions = [\"Current abortion laws are too laxed, it should be illegal in all states. no children should be killed.\",\n",
    "\"I think everyone should bear arms freely. we should fight for our rights and protect ourselves. fuck the democrats\",\n",
    "\"there should be more promotion opportunities for minorities and women in the workplace. Maternal leave should be longer and mandatory for all companies\"]\n"
   ]
  },
  {
   "cell_type": "code",
   "execution_count": 21,
   "metadata": {},
   "outputs": [],
   "source": [
    "responses = {}\n",
    "for i, opinion in enumerate(opinions):\n",
    "    prompt1 = f\"\"\"Create a one-sentence summary of the following argument.\n",
    "\n",
    "    - Omit the reasons provided (e.g., \"abortion should be legal because it is a right\" → \"abortion should be legal\")\n",
    "    - Avoid double-barreled questions (only one issue position and one concept at a time)\n",
    "    - If multiple issues are mentioned, focus on the first\n",
    "    - Stick to what the person says\n",
    "    - Write it from the first person (\"I believe ...\")\n",
    "    - Remove everything after \"because\"\n",
    "    - Keep it under 15 words\n",
    "    - Return only one statement (not \"I believe X and Y\", only \"I believe X\")\n",
    "\n",
    "    Argument: {opinion}\n",
    "    Summary:\"\"\"\n",
    "\n",
    "    prompt2 = f\"\"\"Create a one-sentence summary of the following argument. The summary should start with \"I believe\" and only retain one clear position about one main issue from the original argument.\n",
    "\n",
    "    Argument: {opinion}\n",
    "    Summary:\"\"\"\n",
    "\n",
    "    for n, prompt in {\"prompt1\": prompt1, \"prompt2\": prompt2}.items():\n",
    "        response = sendchat(prompt)\n",
    "        responses[f\"{n}_{i}\"] = response"
   ]
  },
  {
   "cell_type": "code",
   "execution_count": 22,
   "metadata": {},
   "outputs": [
    {
     "data": {
      "text/plain": [
       "{'id': 'gen-1757007136-MM30bi11c2KbVZGX1RRm',\n",
       " 'provider': 'OpenAI',\n",
       " 'model': 'openai/gpt-4.1',\n",
       " 'object': 'chat.completion',\n",
       " 'created': 1757007136,\n",
       " 'choices': [{'logprobs': None,\n",
       "   'finish_reason': 'stop',\n",
       "   'native_finish_reason': 'stop',\n",
       "   'index': 0,\n",
       "   'message': {'role': 'assistant',\n",
       "    'content': 'I believe everyone should bear arms freely.',\n",
       "    'refusal': None,\n",
       "    'reasoning': None}}],\n",
       " 'system_fingerprint': 'fp_3502f4eb73',\n",
       " 'usage': {'prompt_tokens': 171,\n",
       "  'completion_tokens': 8,\n",
       "  'total_tokens': 179,\n",
       "  'prompt_tokens_details': {'cached_tokens': 0, 'audio_tokens': 0},\n",
       "  'completion_tokens_details': {'reasoning_tokens': 0}}}"
      ]
     },
     "execution_count": 22,
     "metadata": {},
     "output_type": "execute_result"
    }
   ],
   "source": [
    "responses['prompt1_1']"
   ]
  },
  {
   "cell_type": "code",
   "execution_count": 23,
   "metadata": {},
   "outputs": [
    {
     "name": "stdout",
     "output_type": "stream",
     "text": [
      "prompt1_0 {'role': 'assistant', 'content': 'I believe abortion should be illegal in all states.', 'refusal': None, 'reasoning': None}\n",
      "prompt2_0 {'role': 'assistant', 'content': 'I believe abortion should be illegal in all states.', 'refusal': None, 'reasoning': None}\n",
      "prompt1_1 {'role': 'assistant', 'content': 'I believe everyone should bear arms freely.', 'refusal': None, 'reasoning': None}\n",
      "prompt2_1 {'role': 'assistant', 'content': 'I believe everyone should have the right to bear arms.', 'refusal': None, 'reasoning': None}\n",
      "prompt1_2 {'role': 'assistant', 'content': 'I believe there should be more promotion opportunities for minorities and women in the workplace.', 'refusal': None, 'reasoning': None}\n",
      "prompt2_2 {'role': 'assistant', 'content': 'I believe there should be more promotion opportunities for minorities and women in the workplace.', 'refusal': None, 'reasoning': None}\n"
     ]
    }
   ],
   "source": [
    "for n, response in responses.items():\n",
    "    print(n, response[\"choices\"][0][\"message\"])"
   ]
  },
  {
   "cell_type": "markdown",
   "metadata": {},
   "source": [
    "## They seem to yield similar results -> change summary block."
   ]
  },
  {
   "cell_type": "markdown",
   "metadata": {},
   "source": []
  }
 ],
 "metadata": {
  "kernelspec": {
   "display_name": "dante",
   "language": "python",
   "name": "python3"
  },
  "language_info": {
   "codemirror_mode": {
    "name": "ipython",
    "version": 3
   },
   "file_extension": ".py",
   "mimetype": "text/x-python",
   "name": "python",
   "nbconvert_exporter": "python",
   "pygments_lexer": "ipython3",
   "version": "3.12.4"
  }
 },
 "nbformat": 4,
 "nbformat_minor": 2
}
